{
 "cells": [
  {
   "cell_type": "markdown",
   "metadata": {},
   "source": [
    "# Collaboration and Competition\n",
    "\n",
    "---\n",
    "\n",
    "You are welcome to use this coding environment to train your agent for the project.  Follow the instructions below to get started!\n",
    "\n",
    "### 1. Start the Environment\n",
    "\n",
    "Run the next code cell to install a few packages.  This line will take a few minutes to run!"
   ]
  },
  {
   "cell_type": "code",
   "execution_count": 1,
   "metadata": {},
   "outputs": [
    {
     "name": "stdout",
     "output_type": "stream",
     "text": [
      "\u001b[31mtensorflow 1.7.1 has requirement numpy>=1.13.3, but you'll have numpy 1.12.1 which is incompatible.\u001b[0m\r\n",
      "\u001b[31mipython 6.5.0 has requirement prompt-toolkit<2.0.0,>=1.0.15, but you'll have prompt-toolkit 3.0.32 which is incompatible.\u001b[0m\r\n",
      "\u001b[31mjupyter-console 6.4.3 has requirement jupyter-client>=7.0.0, but you'll have jupyter-client 5.2.4 which is incompatible.\u001b[0m\r\n"
     ]
    }
   ],
   "source": [
    "!pip -q install ./python"
   ]
  },
  {
   "cell_type": "markdown",
   "metadata": {},
   "source": [
    "The environment is already saved in the Workspace and can be accessed at the file path provided below. "
   ]
  },
  {
   "cell_type": "code",
   "execution_count": 5,
   "metadata": {},
   "outputs": [
    {
     "name": "stderr",
     "output_type": "stream",
     "text": [
      "INFO:unityagents:\n",
      "'Academy' started successfully!\n",
      "Unity Academy name: Academy\n",
      "        Number of Brains: 1\n",
      "        Number of External Brains : 1\n",
      "        Lesson number : 0\n",
      "        Reset Parameters :\n",
      "\t\t\n",
      "Unity brain name: TennisBrain\n",
      "        Number of Visual Observations (per agent): 0\n",
      "        Vector Observation space type: continuous\n",
      "        Vector Observation space size (per agent): 8\n",
      "        Number of stacked Vector Observation: 3\n",
      "        Vector Action space type: continuous\n",
      "        Vector Action space size (per agent): 2\n",
      "        Vector Action descriptions: , \n"
     ]
    }
   ],
   "source": [
    "from unityagents import UnityEnvironment\n",
    "import numpy as np\n",
    "\n",
    "env = UnityEnvironment(file_name=\"/data/Tennis_Linux_NoVis/Tennis\")"
   ]
  },
  {
   "cell_type": "markdown",
   "metadata": {},
   "source": [
    "Environments contain **_brains_** which are responsible for deciding the actions of their associated agents. Here we check for the first brain available, and set it as the default brain we will be controlling from Python."
   ]
  },
  {
   "cell_type": "code",
   "execution_count": 6,
   "metadata": {},
   "outputs": [],
   "source": [
    "# get the default brain\n",
    "brain_name = env.brain_names[0]\n",
    "brain = env.brains[brain_name]"
   ]
  },
  {
   "cell_type": "markdown",
   "metadata": {},
   "source": [
    "### 2. Examine the State and Action Spaces\n",
    "\n",
    "Run the code cell below to print some information about the environment."
   ]
  },
  {
   "cell_type": "code",
   "execution_count": 7,
   "metadata": {},
   "outputs": [
    {
     "name": "stdout",
     "output_type": "stream",
     "text": [
      "Number of agents: 2\n",
      "Size of each action: 2\n",
      "There are 2 agents. Each observes a state with length: 24\n",
      "The state for the first agent looks like: [ 0.          0.          0.          0.          0.          0.          0.\n",
      "  0.          0.          0.          0.          0.          0.          0.\n",
      "  0.          0.         -6.65278625 -1.5        -0.          0.\n",
      "  6.83172083  6.         -0.          0.        ]\n"
     ]
    }
   ],
   "source": [
    "# reset the environment\n",
    "env_info = env.reset(train_mode=True)[brain_name]\n",
    "\n",
    "# number of agents \n",
    "num_agents = len(env_info.agents)\n",
    "print('Number of agents:', num_agents)\n",
    "\n",
    "# size of each action\n",
    "action_size = brain.vector_action_space_size\n",
    "print('Size of each action:', action_size)\n",
    "\n",
    "# examine the state space \n",
    "states = env_info.vector_observations\n",
    "state_size = states.shape[1]\n",
    "print('There are {} agents. Each observes a state with length: {}'.format(states.shape[0], state_size))\n",
    "print('The state for the first agent looks like:', states[0])"
   ]
  },
  {
   "cell_type": "markdown",
   "metadata": {},
   "source": [
    "### 3. Take Random Actions in the Environment\n",
    "\n",
    "In the next code cell, you will learn how to use the Python API to control the agent and receive feedback from the environment.\n",
    "\n",
    "Note that **in this coding environment, you will not be able to watch the agents while they are training**, and you should set `train_mode=True` to restart the environment."
   ]
  },
  {
   "cell_type": "code",
   "execution_count": 6,
   "metadata": {},
   "outputs": [
    {
     "name": "stdout",
     "output_type": "stream",
     "text": [
      "Total score (averaged over agents) this episode: -0.004999999888241291\n",
      "Total score (averaged over agents) this episode: -0.004999999888241291\n",
      "Total score (averaged over agents) this episode: -0.004999999888241291\n",
      "Total score (averaged over agents) this episode: -0.004999999888241291\n",
      "Total score (averaged over agents) this episode: -0.004999999888241291\n"
     ]
    }
   ],
   "source": [
    "for i in range(5):                                         # play game for 5 episodes\n",
    "    env_info = env.reset(train_mode=False)[brain_name]     # reset the environment    \n",
    "    states = env_info.vector_observations                  # get the current state (for each agent)\n",
    "    scores = np.zeros(num_agents)                          # initialize the score (for each agent)\n",
    "    while True:\n",
    "        actions = np.random.randn(num_agents, action_size) # select an action (for each agent)\n",
    "        actions = np.clip(actions, -1, 1)                  # all actions between -1 and 1\n",
    "        #print(\"Action: \",actions)\n",
    "        env_info = env.step(actions)[brain_name]           # send all actions to tne environment\n",
    "        next_states = env_info.vector_observations         # get next state (for each agent)\n",
    "        rewards = env_info.rewards                         # get reward (for each agent)\n",
    "        dones = env_info.local_done                        # see if episode finished\n",
    "        #print(\"Rewards: \",rewards)\n",
    "        #print(\"dones: \",dones)\n",
    "        #print(\"States 0: \",next_states[0])\n",
    "        #print(\"States 1: \",next_states[1])\n",
    "        scores += env_info.rewards                         # update the score (for each agent)\n",
    "        states = next_states                               # roll over states to next time step\n",
    "        if np.any(dones):                                  # exit loop if episode finished\n",
    "            break\n",
    "    print('Total score (averaged over agents) this episode: {}'.format(np.mean(scores)))"
   ]
  },
  {
   "cell_type": "markdown",
   "metadata": {},
   "source": [
    "When finished, you can close the environment."
   ]
  },
  {
   "cell_type": "code",
   "execution_count": 30,
   "metadata": {},
   "outputs": [],
   "source": [
    "env.close()"
   ]
  },
  {
   "cell_type": "markdown",
   "metadata": {},
   "source": [
    "### 4. It's Your Turn!\n",
    "\n",
    "Now it's your turn to train your own agent to solve the environment!  A few **important notes**:\n",
    "- When training the environment, set `train_mode=True`, so that the line for resetting the environment looks like the following:\n",
    "```python\n",
    "env_info = env.reset(train_mode=True)[brain_name]\n",
    "```\n",
    "- To structure your work, you're welcome to work directly in this Jupyter notebook, or you might like to start over with a new file!  You can see the list of files in the workspace by clicking on **_Jupyter_** in the top left corner of the notebook.\n",
    "- In this coding environment, you will not be able to watch the agents while they are training.  However, **_after training the agents_**, you can download the saved model weights to watch the agents on your own machine! "
   ]
  },
  {
   "cell_type": "code",
   "execution_count": 8,
   "metadata": {},
   "outputs": [],
   "source": [
    "%matplotlib inline\n",
    "\n",
    "import torch\n",
    "\n",
    "from ddpg_Multi_Agent import Multi_Agent\n",
    "\n",
    "from collections import deque\n",
    "import matplotlib.pyplot as plt\n",
    "import time, os"
   ]
  },
  {
   "cell_type": "code",
   "execution_count": 9,
   "metadata": {},
   "outputs": [],
   "source": [
    "maddpg = Multi_Agent(state_size, action_size, num_agents, 0)"
   ]
  },
  {
   "cell_type": "code",
   "execution_count": 7,
   "metadata": {},
   "outputs": [],
   "source": [
    "scores_max_hist = []\n",
    "scores_mean_hist = []\n",
    "\n",
    "def maddpg_train(n_episodes=2000):\n",
    "    \n",
    "    scores_deque = deque(maxlen=100)\n",
    "    \n",
    "    for i_episode in range(n_episodes):\n",
    "        env_info = env.reset(train_mode=True)[brain_name]\n",
    "        state = env_info.vector_observations\n",
    "        scores = np.zeros(num_agents)\n",
    "        maddpg.reset()\n",
    "        \n",
    "        while True:\n",
    "            action = maddpg.act(state, i_episode, add_noise=True)\n",
    "            env_info = env.step(action)[brain_name]\n",
    "            \n",
    "            next_state = env_info.vector_observations\n",
    "            reward = env_info.rewards\n",
    "            done = env_info.local_done\n",
    "            \n",
    "            scores += reward\n",
    "            \n",
    "            maddpg.step(i_episode, state, action, reward, next_state, done)\n",
    "            \n",
    "            if np.any(done):\n",
    "                break\n",
    "                \n",
    "            state = next_state\n",
    "            \n",
    "        score_max = np.max(scores)\n",
    "        scores_deque.append(score_max)\n",
    "        score_mean = np.mean(scores_deque)\n",
    "        \n",
    "        scores_max_hist.append(score_max)\n",
    "        scores_mean_hist.append(score_mean)\n",
    "\n",
    "        print('\\r{} episode\\tmoving avg score {:.5f}\\tmax score {:.5f}'.format(i_episode, np.mean(scores_deque), score_max), end='')\n",
    "        if score_mean >= 0.5:\n",
    "            print('\\nEnvironment solved after {} episodes with the average score {}\\n'.format(i_episode, score_mean))\n",
    "            maddpg.save()\n",
    "            \n",
    "        if i_episode % 50 == 0:\n",
    "            print()\n",
    "            \n",
    "        if i_episode % 10 == 0 and score_mean >= 0.5:\n",
    "            maddpg.save()\n",
    "            \n",
    "        if score_mean >= 1:\n",
    "            break"
   ]
  },
  {
   "cell_type": "code",
   "execution_count": null,
   "metadata": {},
   "outputs": [
    {
     "name": "stdout",
     "output_type": "stream",
     "text": [
      "0 episode\tcurr score 0.10000\tmoving avg score 0.10000\tmax score 0.10000\n",
      "100 episode\tcurr score 0.00000\tmoving avg score 0.01060\tmax score 0.00000\n",
      "200 episode\tcurr score 0.00000\tmoving avg score 0.01180\tmax score 0.00000\n",
      "300 episode\tcurr score 0.00000\tmoving avg score 0.01960\tmax score 0.00000\n",
      "400 episode\tcurr score 0.10000\tmoving avg score 0.01680\tmax score 0.10000\n",
      "500 episode\tcurr score 0.00000\tmoving avg score 0.01170\tmax score 0.00000\n",
      "600 episode\tcurr score 0.00000\tmoving avg score 0.06290\tmax score 0.00000\n",
      "700 episode\tcurr score 0.10000\tmoving avg score 0.10490\tmax score 0.10000\n",
      "800 episode\tcurr score 0.10000\tmoving avg score 0.14770\tmax score 0.10000\n",
      "900 episode\tcurr score 0.10000\tmoving avg score 0.32160\tmax score 0.10000\n",
      "941 episode\tcurr score 2.20000\tmoving avg score 0.52160\tmax score 2.20000\n",
      "Environment solved after 941 episodes with the average score 0.5216000077873468\n",
      "\n",
      "990 episode\tcurr score 1.00000\tmoving avg score 1.11750\tmax score 1.00000"
     ]
    }
   ],
   "source": [
    "maddpg_train()"
   ]
  },
  {
   "cell_type": "code",
   "execution_count": 8,
   "metadata": {},
   "outputs": [
    {
     "name": "stdout",
     "output_type": "stream",
     "text": [
      "0 episode\tmoving avg score 0.00000\tmax score 0.00000\n",
      "50 episode\tmoving avg score 0.02627\tmax score 0.00000\n",
      "100 episode\tmoving avg score 0.01920\tmax score 0.00000\n",
      "150 episode\tmoving avg score 0.01660\tmax score 0.00000\n",
      "200 episode\tmoving avg score 0.02250\tmax score 0.00000\n",
      "250 episode\tmoving avg score 0.01860\tmax score 0.00000\n",
      "300 episode\tmoving avg score 0.01090\tmax score 0.00000\n",
      "350 episode\tmoving avg score 0.01270\tmax score 0.00000\n",
      "400 episode\tmoving avg score 0.01430\tmax score 0.00000\n",
      "450 episode\tmoving avg score 0.01330\tmax score 0.00000\n",
      "500 episode\tmoving avg score 0.01670\tmax score 0.00000\n",
      "550 episode\tmoving avg score 0.02750\tmax score 0.00000\n",
      "600 episode\tmoving avg score 0.04800\tmax score 0.10000\n",
      "650 episode\tmoving avg score 0.06410\tmax score 0.00000\n",
      "700 episode\tmoving avg score 0.07090\tmax score 0.10000\n",
      "750 episode\tmoving avg score 0.08550\tmax score 0.10000\n",
      "800 episode\tmoving avg score 0.10600\tmax score 0.10000\n",
      "850 episode\tmoving avg score 0.12170\tmax score 0.09000\n",
      "900 episode\tmoving avg score 0.12320\tmax score 0.40000\n",
      "950 episode\tmoving avg score 0.13500\tmax score 0.10000\n",
      "1000 episode\tmoving avg score 0.15610\tmax score 0.20000\n",
      "1050 episode\tmoving avg score 0.21820\tmax score 0.10000\n",
      "1100 episode\tmoving avg score 0.42440\tmax score 1.50000\n",
      "1105 episode\tmoving avg score 0.50330\tmax score 1.10000\n",
      "Environment solved after 1105 episodes with the average score 0.5033000075258315\n",
      "\n",
      "1106 episode\tmoving avg score 0.52830\tmax score 2.60000\n",
      "Environment solved after 1106 episodes with the average score 0.5283000078983605\n",
      "\n",
      "1107 episode\tmoving avg score 0.52840\tmax score 0.10000\n",
      "Environment solved after 1107 episodes with the average score 0.5284000078961253\n",
      "\n",
      "1108 episode\tmoving avg score 0.54050\tmax score 1.30000\n",
      "Environment solved after 1108 episodes with the average score 0.540500008072704\n",
      "\n",
      "1109 episode\tmoving avg score 0.55350\tmax score 1.80000\n",
      "Environment solved after 1109 episodes with the average score 0.5535000082664192\n",
      "\n",
      "1110 episode\tmoving avg score 0.57250\tmax score 2.30000\n",
      "Environment solved after 1110 episodes with the average score 0.5725000085495412\n",
      "\n",
      "1111 episode\tmoving avg score 0.59650\tmax score 2.50000\n",
      "Environment solved after 1111 episodes with the average score 0.5965000089071691\n",
      "\n",
      "1112 episode\tmoving avg score 0.61750\tmax score 2.60000\n",
      "Environment solved after 1112 episodes with the average score 0.6175000092200935\n",
      "\n",
      "1113 episode\tmoving avg score 0.61450\tmax score 0.00000\n",
      "Environment solved after 1113 episodes with the average score 0.61450000917539\n",
      "\n",
      "1114 episode\tmoving avg score 0.61740\tmax score 0.59000\n",
      "Environment solved after 1114 episodes with the average score 0.6174000092223286\n",
      "\n",
      "1115 episode\tmoving avg score 0.61440\tmax score 0.10000\n",
      "Environment solved after 1115 episodes with the average score 0.6144000091776252\n",
      "\n",
      "1116 episode\tmoving avg score 0.62040\tmax score 0.80000\n",
      "Environment solved after 1116 episodes with the average score 0.6204000092670321\n",
      "\n",
      "1117 episode\tmoving avg score 0.62240\tmax score 0.30000\n",
      "Environment solved after 1117 episodes with the average score 0.6224000092968345\n",
      "\n",
      "1118 episode\tmoving avg score 0.61930\tmax score 0.29000\n",
      "Environment solved after 1118 episodes with the average score 0.6193000092543661\n",
      "\n",
      "1119 episode\tmoving avg score 0.62430\tmax score 0.60000\n",
      "Environment solved after 1119 episodes with the average score 0.624300009328872\n",
      "\n",
      "1120 episode\tmoving avg score 0.62330\tmax score 0.10000\n",
      "Environment solved after 1120 episodes with the average score 0.6233000093139708\n",
      "\n",
      "1121 episode\tmoving avg score 0.62830\tmax score 0.90000\n",
      "Environment solved after 1121 episodes with the average score 0.6283000093884766\n",
      "\n",
      "1122 episode\tmoving avg score 0.65330\tmax score 2.60000\n",
      "Environment solved after 1122 episodes with the average score 0.6533000097610057\n",
      "\n",
      "1123 episode\tmoving avg score 0.65230\tmax score 0.00000\n",
      "Environment solved after 1123 episodes with the average score 0.6523000097461045\n",
      "\n",
      "1124 episode\tmoving avg score 0.65030\tmax score 0.10000\n",
      "Environment solved after 1124 episodes with the average score 0.6503000097163022\n",
      "\n",
      "1125 episode\tmoving avg score 0.65830\tmax score 0.90000\n",
      "Environment solved after 1125 episodes with the average score 0.6583000098355114\n",
      "\n",
      "1126 episode\tmoving avg score 0.66130\tmax score 0.40000\n",
      "Environment solved after 1126 episodes with the average score 0.661300009880215\n",
      "\n",
      "1127 episode\tmoving avg score 0.65530\tmax score 0.40000\n",
      "Environment solved after 1127 episodes with the average score 0.6553000097908079\n",
      "\n",
      "1128 episode\tmoving avg score 0.65330\tmax score 0.40000\n",
      "Environment solved after 1128 episodes with the average score 0.6533000097610057\n",
      "\n",
      "1129 episode\tmoving avg score 0.65230\tmax score 0.60000\n",
      "Environment solved after 1129 episodes with the average score 0.6523000097461045\n",
      "\n",
      "1130 episode\tmoving avg score 0.65530\tmax score 0.50000\n",
      "Environment solved after 1130 episodes with the average score 0.6553000097908079\n",
      "\n",
      "1131 episode\tmoving avg score 0.64930\tmax score 0.30000\n",
      "Environment solved after 1131 episodes with the average score 0.649300009701401\n",
      "\n",
      "1132 episode\tmoving avg score 0.67330\tmax score 2.60000\n",
      "Environment solved after 1132 episodes with the average score 0.6733000100590288\n",
      "\n",
      "1133 episode\tmoving avg score 0.67130\tmax score 0.00000\n",
      "Environment solved after 1133 episodes with the average score 0.6713000100292266\n",
      "\n",
      "1134 episode\tmoving avg score 0.69730\tmax score 2.60000\n",
      "Environment solved after 1134 episodes with the average score 0.6973000104166567\n",
      "\n",
      "1135 episode\tmoving avg score 0.72130\tmax score 2.60000\n",
      "Environment solved after 1135 episodes with the average score 0.7213000107742846\n",
      "\n",
      "1136 episode\tmoving avg score 0.71930\tmax score 0.00000\n",
      "Environment solved after 1136 episodes with the average score 0.7193000107444822\n",
      "\n",
      "1137 episode\tmoving avg score 0.73730\tmax score 1.90000\n",
      "Environment solved after 1137 episodes with the average score 0.7373000110127031\n",
      "\n",
      "1138 episode\tmoving avg score 0.74430\tmax score 1.00000\n",
      "Environment solved after 1138 episodes with the average score 0.7443000111170113\n",
      "\n",
      "1139 episode\tmoving avg score 0.76430\tmax score 2.60000\n",
      "Environment solved after 1139 episodes with the average score 0.7643000114150346\n",
      "\n",
      "1140 episode\tmoving avg score 0.76630\tmax score 0.30000\n",
      "Environment solved after 1140 episodes with the average score 0.7663000114448368\n",
      "\n",
      "1141 episode\tmoving avg score 0.79130\tmax score 2.60000\n",
      "Environment solved after 1141 episodes with the average score 0.7913000118173659\n",
      "\n",
      "1142 episode\tmoving avg score 0.81630\tmax score 2.60000\n",
      "Environment solved after 1142 episodes with the average score 0.8163000121898949\n",
      "\n",
      "1143 episode\tmoving avg score 0.83020\tmax score 1.69000\n",
      "Environment solved after 1143 episodes with the average score 0.8302000124007464\n",
      "\n",
      "1144 episode\tmoving avg score 0.83320\tmax score 0.50000\n",
      "Environment solved after 1144 episodes with the average score 0.8332000124454498\n",
      "\n",
      "1145 episode\tmoving avg score 0.85620\tmax score 2.60000\n",
      "Environment solved after 1145 episodes with the average score 0.8562000127881766\n",
      "\n",
      "1146 episode\tmoving avg score 0.85320\tmax score 0.00000\n",
      "Environment solved after 1146 episodes with the average score 0.853200012743473\n",
      "\n",
      "1147 episode\tmoving avg score 0.87720\tmax score 2.60000\n",
      "Environment solved after 1147 episodes with the average score 0.877200013101101\n",
      "\n",
      "1148 episode\tmoving avg score 0.88120\tmax score 0.60000\n",
      "Environment solved after 1148 episodes with the average score 0.8812000131607056\n",
      "\n",
      "1149 episode\tmoving avg score 0.88820\tmax score 1.60000\n",
      "Environment solved after 1149 episodes with the average score 0.8882000132650137\n",
      "\n",
      "1150 episode\tmoving avg score 0.91320\tmax score 2.60000\n",
      "Environment solved after 1150 episodes with the average score 0.9132000136375428\n",
      "\n",
      "\n",
      "1151 episode\tmoving avg score 0.93720\tmax score 2.70000\n",
      "Environment solved after 1151 episodes with the average score 0.9372000139951706\n",
      "\n",
      "1152 episode\tmoving avg score 0.95720\tmax score 2.60000\n",
      "Environment solved after 1152 episodes with the average score 0.9572000142931938\n",
      "\n",
      "1153 episode\tmoving avg score 0.97620\tmax score 2.00000\n",
      "Environment solved after 1153 episodes with the average score 0.9762000145763159\n",
      "\n",
      "1154 episode\tmoving avg score 0.97430\tmax score 0.20000\n",
      "Environment solved after 1154 episodes with the average score 0.9743000145442784\n",
      "\n",
      "1155 episode\tmoving avg score 0.99930\tmax score 2.60000\n",
      "Environment solved after 1155 episodes with the average score 0.9993000149168074\n",
      "\n"
     ]
    },
    {
     "name": "stdout",
     "output_type": "stream",
     "text": [
      "\r",
      "1156 episode\tmoving avg score 1.02130\tmax score 2.40000\n",
      "Environment solved after 1156 episodes with the average score 1.021300015244633\n",
      "\n"
     ]
    }
   ],
   "source": [
    "maddpg_train()"
   ]
  },
  {
   "cell_type": "code",
   "execution_count": 9,
   "metadata": {},
   "outputs": [
    {
     "data": {
      "image/png": "[encoded data removed]",
      "text/plain": [
       "<matplotlib.figure.Figure at 0x7faa2b1550b8>"
      ]
     },
     "metadata": {
      "needs_background": "light"
     },
     "output_type": "display_data"
    }
   ],
   "source": [
    "fig = plt.figure()\n",
    "ax = fig.add_subplot()\n",
    "plt.plot(np.arange(1, len(scores_max_hist)+1), scores_max_hist, label='score')\n",
    "plt.plot(np.arange(1, len(scores_mean_hist)+1), scores_mean_hist, label='average score')\n",
    "plt.ylabel('Score')\n",
    "plt.xlabel('Episode #')\n",
    "plt.legend(loc='upper left')\n",
    "plt.show()"
   ]
  },
  {
   "cell_type": "code",
   "execution_count": 12,
   "metadata": {},
   "outputs": [],
   "source": [
    "scores_max_hist_test = []\n",
    "scores_mean_hist_test = []\n",
    "def maddpg_test(n_episodes=100):\n",
    "    \n",
    "    for i_episode in range(n_episodes):\n",
    "        env_info = env.reset(train_mode=False)[brain_name]\n",
    "        state = env_info.vector_observations\n",
    "        scores = np.zeros(num_agents)\n",
    "        maddpg.reset()\n",
    "        \n",
    "        while True:\n",
    "            action = maddpg.act(state, i_episode, add_noise=False)\n",
    "            env_info = env.step(action)[brain_name]\n",
    "            \n",
    "            next_state = env_info.vector_observations\n",
    "            reward = env_info.rewards\n",
    "            done = env_info.local_done\n",
    "            \n",
    "            scores += reward\n",
    "            #print(i_episode)\n",
    "            #maddpg.step(i_episode, state, action, reward, next_state, done)\n",
    "            #print(reward)\n",
    "            if np.any(done):\n",
    "                break\n",
    "                \n",
    "            state = next_state\n",
    "            \n",
    "        score_max = np.max(scores)\n",
    "        score_mean = np.mean(scores_deque)\n",
    "        \n",
    "        scores_max_hist_test.append(score_max)\n",
    "        scores_mean_hist_test.append(score_mean)\n",
    "        \n",
    "        print('\\r{} episode\\tmoving avg score {:.5f}\\tmax score {:.5f}'.format(i_episode, np.mean(scores_deque), score_max), end='')"
   ]
  },
  {
   "cell_type": "code",
   "execution_count": 10,
   "metadata": {},
   "outputs": [],
   "source": [
    "for idx, agent in enumerate(maddpg.agents):\n",
    "    chk_actor_filename = torch.load('checkpoint_agent{}_actor.pth'.format(idx))\n",
    "    chk_critic_filename = torch.load('checkpoint_critic{}_critic.pth'.format(idx))\n",
    "    agent.actor_local.load_state_dict(torch.load('checkpoint_agent{}_actor.pth'.format(idx)))\n",
    "    agent.critic_local.load_state_dict(torch.load('checkpoint_critic{}_critic.pth'.format(idx)))"
   ]
  },
  {
   "cell_type": "code",
   "execution_count": null,
   "metadata": {},
   "outputs": [
    {
     "name": "stderr",
     "output_type": "stream",
     "text": [
      "/opt/conda/lib/python3.6/site-packages/numpy/core/fromnumeric.py:2889: RuntimeWarning: Mean of empty slice.\n",
      "  out=out, **kwargs)\n",
      "/opt/conda/lib/python3.6/site-packages/numpy/core/_methods.py:80: RuntimeWarning: invalid value encountered in double_scalars\n",
      "  ret = ret.dtype.type(ret / rcount)\n"
     ]
    },
    {
     "name": "stdout",
     "output_type": "stream",
     "text": [
      "Total score (averaged over agents) this episode: 0.1450000023469329\n",
      "Total score (averaged over agents) this episode: 2.600000038743019\n",
      "Total score (averaged over agents) this episode: 2.595000038854778\n",
      "Total score (averaged over agents) this episode: 2.600000038743019\n",
      "Total score (averaged over agents) this episode: 2.650000039488077\n",
      "Total score (averaged over agents) this episode: 2.550000037997961\n",
      "Total score (averaged over agents) this episode: 2.650000039488077\n",
      "Total score (averaged over agents) this episode: 2.600000038743019\n",
      "Total score (averaged over agents) this episode: 0.04500000085681677\n",
      "Total score (averaged over agents) this episode: 0.09500000160187483\n",
      "Total score (averaged over agents) this episode: 1.5450000232085586\n",
      "Total score (averaged over agents) this episode: 0.04500000085681677\n",
      "Total score (averaged over agents) this episode: 0.6450000097975135\n",
      "Total score (averaged over agents) this episode: 2.600000038743019\n",
      "Total score (averaged over agents) this episode: 2.600000038743019\n",
      "Total score (averaged over agents) this episode: 2.650000039488077\n",
      "Total score (averaged over agents) this episode: 2.1950000328943133\n",
      "Total score (averaged over agents) this episode: 2.600000038743019\n",
      "Total score (averaged over agents) this episode: 2.650000039488077\n",
      "Total score (averaged over agents) this episode: 1.3450000202283263\n",
      "Total score (averaged over agents) this episode: 1.5950000239536166\n",
      "Total score (averaged over agents) this episode: 2.600000038743019\n",
      "Total score (averaged over agents) this episode: 2.650000039488077\n",
      "Total score (averaged over agents) this episode: 2.600000038743019\n",
      "Total score (averaged over agents) this episode: 0.44500000681728125\n",
      "Total score (averaged over agents) this episode: 0.3450000053271651\n",
      "Total score (averaged over agents) this episode: 2.600000038743019\n",
      "Total score (averaged over agents) this episode: 2.650000039488077\n",
      "Total score (averaged over agents) this episode: 2.600000038743019\n"
     ]
    }
   ],
   "source": [
    "scores_max_hist_test = []\n",
    "scores_mean_hist_test = []\n",
    "scores_deque = deque(maxlen=100)\n",
    "\n",
    "for i in range(100):                                         # play game for 5 episodes\n",
    "    env_info = env.reset(train_mode=False)[brain_name]     # reset the environment    \n",
    "    states = env_info.vector_observations                  # get the current state (for each agent)\n",
    "    scores = np.zeros(num_agents)                          # initialize the score (for each agent)\n",
    "    maddpg.reset()\n",
    "    while True:\n",
    "        #actions = np.random.randn(num_agents, action_size) # select an action (for each agent)\n",
    "       # actions = np.clip(actions, -1, 1)                  # all actions between -1 and 1\n",
    "        #print(scores)\n",
    "        actions = maddpg.act(states, i, add_noise=False)\n",
    "        #print(\"Action: \",actions)\n",
    "        env_info = env.step(actions)[brain_name]           # send all actions to tne environment\n",
    "        next_states = env_info.vector_observations         # get next state (for each agent)\n",
    "        rewards = env_info.rewards                         # get reward (for each agent)\n",
    "        dones = env_info.local_done                        # see if episode finished\n",
    "\n",
    "        scores += env_info.rewards                         # update the score (for each agent)\n",
    "        states = next_states                               # roll over states to next time step\n",
    "        if np.any(dones):                                  # exit loop if episode finished\n",
    "            break\n",
    "            \n",
    "        score_max = np.max(scores)\n",
    "        score_mean = np.mean(scores_deque)\n",
    "        \n",
    "        scores_max_hist_test.append(score_max)\n",
    "        scores_mean_hist_test.append(score_mean)\n",
    "    print('Total score (averaged over agents) this episode: {}'.format(np.mean(scores)))"
   ]
  },
  {
   "cell_type": "code",
   "execution_count": 11,
   "metadata": {},
   "outputs": [],
   "source": [
    "env.close()"
   ]
  }
 ],
 "metadata": {
  "kernelspec": {
   "display_name": "Python 3",
   "language": "python",
   "name": "python3"
  },
  "language_info": {
   "codemirror_mode": {
    "name": "ipython",
    "version": 3
   },
   "file_extension": ".py",
   "mimetype": "text/x-python",
   "name": "python",
   "nbconvert_exporter": "python",
   "pygments_lexer": "ipython3",
   "version": "3.6.3"
  }
 },
 "nbformat": 4,
 "nbformat_minor": 2
}
